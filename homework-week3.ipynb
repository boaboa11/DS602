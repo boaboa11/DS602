{
 "cells": [
  {
   "cell_type": "markdown",
   "id": "92665e74",
   "metadata": {},
   "source": [
    "# Week3 - Homework\n",
    "\n",
    "Write a rule based predictor for the dataset below. \n",
    "\n",
    "Choose one of the following datasets and do your EDA. \n",
    "Test your assumptions. \n",
    "\n",
    "Finally write your code in `predict_one` function. \n",
    "\n",
    "Do __NOT__ change the function signature! This function should only take name and return `F` or `M`"
   ]
  },
  {
   "cell_type": "code",
   "execution_count": 129,
   "id": "71cb00e3",
   "metadata": {
    "scrolled": true
   },
   "outputs": [
    {
     "name": "stdout",
     "output_type": "stream",
     "text": [
      "<class 'pandas.core.frame.DataFrame'>\n",
      "RangeIndex: 36277 entries, 0 to 36276\n",
      "Data columns (total 2 columns):\n",
      " #   Column  Non-Null Count  Dtype \n",
      "---  ------  --------------  ----- \n",
      " 0   name    36277 non-null  object\n",
      " 1   gender  36277 non-null  object\n",
      "dtypes: object(2)\n",
      "memory usage: 567.0+ KB\n"
     ]
    }
   ],
   "source": [
    "import pandas as pd\n",
    "import numpy as np\n",
    "from matplotlib import pyplot as plt\n",
    "\n",
    "us_names = 'https://raw.githubusercontent.com/msaricaumbc/DS_data/master/ds602/names/us_names.csv'\n",
    "\n",
    "df = pd.read_csv(us_names)\n",
    "df.dropna(inplace=True)\n",
    "df.info()"
   ]
  },
  {
   "cell_type": "code",
   "execution_count": 131,
   "id": "03ad628a",
   "metadata": {},
   "outputs": [
    {
     "data": {
      "text/plain": [
       "gender\n",
       "F    21789\n",
       "M    14488\n",
       "Name: count, dtype: int64"
      ]
     },
     "execution_count": 131,
     "metadata": {},
     "output_type": "execute_result"
    }
   ],
   "source": [
    "df.gender.value_counts()"
   ]
  },
  {
   "cell_type": "markdown",
   "id": "3065ca7f",
   "metadata": {},
   "source": [
    "Not balanced! For simplicity, let's create a sub sample that will contains equal F and M."
   ]
  },
  {
   "cell_type": "code",
   "execution_count": 133,
   "id": "f042ada9",
   "metadata": {},
   "outputs": [],
   "source": [
    "min_count = min(df['gender'].value_counts())\n",
    "\n",
    "df_f = df[df['gender'] == 'F'].sample(min_count, random_state=42)\n",
    "df_m = df[df['gender'] == 'M'].sample(min_count, random_state=42)\n",
    "\n",
    "df = pd.concat([df_f, df_m]).reset_index(drop=True)"
   ]
  },
  {
   "cell_type": "code",
   "execution_count": 135,
   "id": "d88a3635",
   "metadata": {},
   "outputs": [
    {
     "data": {
      "text/plain": [
       "gender\n",
       "F    14488\n",
       "M    14488\n",
       "Name: count, dtype: int64"
      ]
     },
     "execution_count": 135,
     "metadata": {},
     "output_type": "execute_result"
    }
   ],
   "source": [
    "df.gender.value_counts()"
   ]
  },
  {
   "cell_type": "code",
   "execution_count": 137,
   "id": "e04e6545",
   "metadata": {},
   "outputs": [
    {
     "data": {
      "text/html": [
       "<div>\n",
       "<style scoped>\n",
       "    .dataframe tbody tr th:only-of-type {\n",
       "        vertical-align: middle;\n",
       "    }\n",
       "\n",
       "    .dataframe tbody tr th {\n",
       "        vertical-align: top;\n",
       "    }\n",
       "\n",
       "    .dataframe thead th {\n",
       "        text-align: right;\n",
       "    }\n",
       "</style>\n",
       "<table border=\"1\" class=\"dataframe\">\n",
       "  <thead>\n",
       "    <tr style=\"text-align: right;\">\n",
       "      <th></th>\n",
       "      <th>name</th>\n",
       "      <th>gender</th>\n",
       "    </tr>\n",
       "  </thead>\n",
       "  <tbody>\n",
       "    <tr>\n",
       "      <th>0</th>\n",
       "      <td>Brennen</td>\n",
       "      <td>F</td>\n",
       "    </tr>\n",
       "    <tr>\n",
       "      <th>1</th>\n",
       "      <td>Chikaima</td>\n",
       "      <td>F</td>\n",
       "    </tr>\n",
       "    <tr>\n",
       "      <th>2</th>\n",
       "      <td>Zoejane</td>\n",
       "      <td>F</td>\n",
       "    </tr>\n",
       "    <tr>\n",
       "      <th>3</th>\n",
       "      <td>Teegan</td>\n",
       "      <td>F</td>\n",
       "    </tr>\n",
       "    <tr>\n",
       "      <th>4</th>\n",
       "      <td>Alanda</td>\n",
       "      <td>F</td>\n",
       "    </tr>\n",
       "  </tbody>\n",
       "</table>\n",
       "</div>"
      ],
      "text/plain": [
       "       name gender\n",
       "0   Brennen      F\n",
       "1  Chikaima      F\n",
       "2   Zoejane      F\n",
       "3    Teegan      F\n",
       "4    Alanda      F"
      ]
     },
     "execution_count": 137,
     "metadata": {},
     "output_type": "execute_result"
    }
   ],
   "source": [
    "df.head()"
   ]
  },
  {
   "cell_type": "markdown",
   "id": "96ce8445",
   "metadata": {},
   "source": [
    "## Part1:\n",
    "\n",
    "Run experiments to select which rules are good seperator for gender."
   ]
  },
  {
   "cell_type": "markdown",
   "id": "471845de-2c6e-4323-8fd3-6e6bde048d35",
   "metadata": {},
   "source": [
    "### Predicator1: Vowel ratio > 0.4"
   ]
  },
  {
   "cell_type": "code",
   "execution_count": 139,
   "id": "66ed4c12-623d-4c70-aca3-4aa754d56c9e",
   "metadata": {},
   "outputs": [],
   "source": [
    "# Count Vowel ratio\n",
    "def vowel_ratio(name):\n",
    "    vowels = 'aeiouAEIOU'\n",
    "    count = sum(1 for char in name if char in vowels)\n",
    "    return count / len(name) if len(name) > 0 else 0\n",
    "\n",
    "# add new columns：vowel_ratio>40% is predicted to be female\n",
    "df['vowel_ratio'] = df['name'].apply(vowel_ratio)\n",
    "df['gender_prediction'] = df['vowel_ratio'].apply(lambda x: 'F' if x > 0.4 else 'M')\n",
    "df['is_vowel_ratio_high'] = df['vowel_ratio'] > 0.4"
   ]
  },
  {
   "cell_type": "code",
   "execution_count": 141,
   "id": "0a598e31-b6f6-4b24-9849-f71791309942",
   "metadata": {},
   "outputs": [
    {
     "data": {
      "text/html": [
       "<div>\n",
       "<style scoped>\n",
       "    .dataframe tbody tr th:only-of-type {\n",
       "        vertical-align: middle;\n",
       "    }\n",
       "\n",
       "    .dataframe tbody tr th {\n",
       "        vertical-align: top;\n",
       "    }\n",
       "\n",
       "    .dataframe thead th {\n",
       "        text-align: right;\n",
       "    }\n",
       "</style>\n",
       "<table border=\"1\" class=\"dataframe\">\n",
       "  <thead>\n",
       "    <tr style=\"text-align: right;\">\n",
       "      <th></th>\n",
       "      <th>name</th>\n",
       "      <th>gender</th>\n",
       "      <th>vowel_ratio</th>\n",
       "      <th>gender_prediction</th>\n",
       "      <th>is_vowel_ratio_high</th>\n",
       "    </tr>\n",
       "  </thead>\n",
       "  <tbody>\n",
       "    <tr>\n",
       "      <th>0</th>\n",
       "      <td>Brennen</td>\n",
       "      <td>F</td>\n",
       "      <td>0.285714</td>\n",
       "      <td>M</td>\n",
       "      <td>False</td>\n",
       "    </tr>\n",
       "    <tr>\n",
       "      <th>1</th>\n",
       "      <td>Chikaima</td>\n",
       "      <td>F</td>\n",
       "      <td>0.500000</td>\n",
       "      <td>F</td>\n",
       "      <td>True</td>\n",
       "    </tr>\n",
       "    <tr>\n",
       "      <th>2</th>\n",
       "      <td>Zoejane</td>\n",
       "      <td>F</td>\n",
       "      <td>0.571429</td>\n",
       "      <td>F</td>\n",
       "      <td>True</td>\n",
       "    </tr>\n",
       "    <tr>\n",
       "      <th>3</th>\n",
       "      <td>Teegan</td>\n",
       "      <td>F</td>\n",
       "      <td>0.500000</td>\n",
       "      <td>F</td>\n",
       "      <td>True</td>\n",
       "    </tr>\n",
       "    <tr>\n",
       "      <th>4</th>\n",
       "      <td>Alanda</td>\n",
       "      <td>F</td>\n",
       "      <td>0.500000</td>\n",
       "      <td>F</td>\n",
       "      <td>True</td>\n",
       "    </tr>\n",
       "    <tr>\n",
       "      <th>...</th>\n",
       "      <td>...</td>\n",
       "      <td>...</td>\n",
       "      <td>...</td>\n",
       "      <td>...</td>\n",
       "      <td>...</td>\n",
       "    </tr>\n",
       "    <tr>\n",
       "      <th>28971</th>\n",
       "      <td>Arther</td>\n",
       "      <td>M</td>\n",
       "      <td>0.333333</td>\n",
       "      <td>M</td>\n",
       "      <td>False</td>\n",
       "    </tr>\n",
       "    <tr>\n",
       "      <th>28972</th>\n",
       "      <td>Jamani</td>\n",
       "      <td>M</td>\n",
       "      <td>0.500000</td>\n",
       "      <td>F</td>\n",
       "      <td>True</td>\n",
       "    </tr>\n",
       "    <tr>\n",
       "      <th>28973</th>\n",
       "      <td>Mickeal</td>\n",
       "      <td>M</td>\n",
       "      <td>0.428571</td>\n",
       "      <td>F</td>\n",
       "      <td>True</td>\n",
       "    </tr>\n",
       "    <tr>\n",
       "      <th>28974</th>\n",
       "      <td>Chad</td>\n",
       "      <td>M</td>\n",
       "      <td>0.250000</td>\n",
       "      <td>M</td>\n",
       "      <td>False</td>\n",
       "    </tr>\n",
       "    <tr>\n",
       "      <th>28975</th>\n",
       "      <td>Leory</td>\n",
       "      <td>M</td>\n",
       "      <td>0.400000</td>\n",
       "      <td>M</td>\n",
       "      <td>False</td>\n",
       "    </tr>\n",
       "  </tbody>\n",
       "</table>\n",
       "<p>28976 rows × 5 columns</p>\n",
       "</div>"
      ],
      "text/plain": [
       "           name gender  vowel_ratio gender_prediction  is_vowel_ratio_high\n",
       "0       Brennen      F     0.285714                 M                False\n",
       "1      Chikaima      F     0.500000                 F                 True\n",
       "2       Zoejane      F     0.571429                 F                 True\n",
       "3        Teegan      F     0.500000                 F                 True\n",
       "4        Alanda      F     0.500000                 F                 True\n",
       "...         ...    ...          ...               ...                  ...\n",
       "28971    Arther      M     0.333333                 M                False\n",
       "28972    Jamani      M     0.500000                 F                 True\n",
       "28973   Mickeal      M     0.428571                 F                 True\n",
       "28974      Chad      M     0.250000                 M                False\n",
       "28975     Leory      M     0.400000                 M                False\n",
       "\n",
       "[28976 rows x 5 columns]"
      ]
     },
     "execution_count": 141,
     "metadata": {},
     "output_type": "execute_result"
    }
   ],
   "source": [
    "df"
   ]
  },
  {
   "cell_type": "code",
   "execution_count": 143,
   "id": "84beb6f9-d9ca-475c-8b53-d14e8b3658f9",
   "metadata": {},
   "outputs": [
    {
     "data": {
      "text/plain": [
       "<Axes: xlabel='is_vowel_ratio_high', ylabel='count'>"
      ]
     },
     "execution_count": 143,
     "metadata": {},
     "output_type": "execute_result"
    },
    {
     "data": {
      "image/png": "[encoded data removed]",
      "text/plain": [
       "<Figure size 640x480 with 1 Axes>"
      ]
     },
     "metadata": {},
     "output_type": "display_data"
    }
   ],
   "source": [
    "import seaborn as sns\n",
    "\n",
    "sns.countplot(data = df, x = 'is_vowel_ratio_high', hue = 'gender')"
   ]
  },
  {
   "cell_type": "markdown",
   "id": "55fad919-42b3-4596-86c3-e7d53b529296",
   "metadata": {},
   "source": [
    "It looks like Vowel ratio > 0.4 is not a good indicator for this dataset!"
   ]
  },
  {
   "cell_type": "markdown",
   "id": "46d2657a-397c-44b5-b73a-064085085917",
   "metadata": {},
   "source": [
    "### Combined Predicator2: Vowel ratio > 0.4 and last_letter is vowel"
   ]
  },
  {
   "cell_type": "code",
   "execution_count": 145,
   "id": "01b53ffe-1df0-4d49-9629-3808b5156f79",
   "metadata": {},
   "outputs": [],
   "source": [
    "df['is_last_letter_vowel'] = [  name[-1:] in 'aeiou' for name in df.name]\n",
    "df['vowel_feature'] = (df['vowel_ratio'] > 0.4) & (df['is_last_letter_vowel'])"
   ]
  },
  {
   "cell_type": "code",
   "execution_count": 147,
   "id": "e3a2f401-8430-4528-a690-aa8d75ae46f0",
   "metadata": {},
   "outputs": [
    {
     "data": {
      "text/html": [
       "<div>\n",
       "<style scoped>\n",
       "    .dataframe tbody tr th:only-of-type {\n",
       "        vertical-align: middle;\n",
       "    }\n",
       "\n",
       "    .dataframe tbody tr th {\n",
       "        vertical-align: top;\n",
       "    }\n",
       "\n",
       "    .dataframe thead th {\n",
       "        text-align: right;\n",
       "    }\n",
       "</style>\n",
       "<table border=\"1\" class=\"dataframe\">\n",
       "  <thead>\n",
       "    <tr style=\"text-align: right;\">\n",
       "      <th></th>\n",
       "      <th>name</th>\n",
       "      <th>gender</th>\n",
       "      <th>vowel_ratio</th>\n",
       "      <th>gender_prediction</th>\n",
       "      <th>is_vowel_ratio_high</th>\n",
       "      <th>is_last_letter_vowel</th>\n",
       "      <th>vowel_feature</th>\n",
       "    </tr>\n",
       "  </thead>\n",
       "  <tbody>\n",
       "    <tr>\n",
       "      <th>0</th>\n",
       "      <td>Brennen</td>\n",
       "      <td>F</td>\n",
       "      <td>0.285714</td>\n",
       "      <td>M</td>\n",
       "      <td>False</td>\n",
       "      <td>False</td>\n",
       "      <td>False</td>\n",
       "    </tr>\n",
       "    <tr>\n",
       "      <th>1</th>\n",
       "      <td>Chikaima</td>\n",
       "      <td>F</td>\n",
       "      <td>0.500000</td>\n",
       "      <td>F</td>\n",
       "      <td>True</td>\n",
       "      <td>True</td>\n",
       "      <td>True</td>\n",
       "    </tr>\n",
       "    <tr>\n",
       "      <th>2</th>\n",
       "      <td>Zoejane</td>\n",
       "      <td>F</td>\n",
       "      <td>0.571429</td>\n",
       "      <td>F</td>\n",
       "      <td>True</td>\n",
       "      <td>True</td>\n",
       "      <td>True</td>\n",
       "    </tr>\n",
       "    <tr>\n",
       "      <th>3</th>\n",
       "      <td>Teegan</td>\n",
       "      <td>F</td>\n",
       "      <td>0.500000</td>\n",
       "      <td>F</td>\n",
       "      <td>True</td>\n",
       "      <td>False</td>\n",
       "      <td>False</td>\n",
       "    </tr>\n",
       "    <tr>\n",
       "      <th>4</th>\n",
       "      <td>Alanda</td>\n",
       "      <td>F</td>\n",
       "      <td>0.500000</td>\n",
       "      <td>F</td>\n",
       "      <td>True</td>\n",
       "      <td>True</td>\n",
       "      <td>True</td>\n",
       "    </tr>\n",
       "    <tr>\n",
       "      <th>...</th>\n",
       "      <td>...</td>\n",
       "      <td>...</td>\n",
       "      <td>...</td>\n",
       "      <td>...</td>\n",
       "      <td>...</td>\n",
       "      <td>...</td>\n",
       "      <td>...</td>\n",
       "    </tr>\n",
       "    <tr>\n",
       "      <th>28971</th>\n",
       "      <td>Arther</td>\n",
       "      <td>M</td>\n",
       "      <td>0.333333</td>\n",
       "      <td>M</td>\n",
       "      <td>False</td>\n",
       "      <td>False</td>\n",
       "      <td>False</td>\n",
       "    </tr>\n",
       "    <tr>\n",
       "      <th>28972</th>\n",
       "      <td>Jamani</td>\n",
       "      <td>M</td>\n",
       "      <td>0.500000</td>\n",
       "      <td>F</td>\n",
       "      <td>True</td>\n",
       "      <td>True</td>\n",
       "      <td>True</td>\n",
       "    </tr>\n",
       "    <tr>\n",
       "      <th>28973</th>\n",
       "      <td>Mickeal</td>\n",
       "      <td>M</td>\n",
       "      <td>0.428571</td>\n",
       "      <td>F</td>\n",
       "      <td>True</td>\n",
       "      <td>False</td>\n",
       "      <td>False</td>\n",
       "    </tr>\n",
       "    <tr>\n",
       "      <th>28974</th>\n",
       "      <td>Chad</td>\n",
       "      <td>M</td>\n",
       "      <td>0.250000</td>\n",
       "      <td>M</td>\n",
       "      <td>False</td>\n",
       "      <td>False</td>\n",
       "      <td>False</td>\n",
       "    </tr>\n",
       "    <tr>\n",
       "      <th>28975</th>\n",
       "      <td>Leory</td>\n",
       "      <td>M</td>\n",
       "      <td>0.400000</td>\n",
       "      <td>M</td>\n",
       "      <td>False</td>\n",
       "      <td>False</td>\n",
       "      <td>False</td>\n",
       "    </tr>\n",
       "  </tbody>\n",
       "</table>\n",
       "<p>28976 rows × 7 columns</p>\n",
       "</div>"
      ],
      "text/plain": [
       "           name gender  vowel_ratio gender_prediction  is_vowel_ratio_high  \\\n",
       "0       Brennen      F     0.285714                 M                False   \n",
       "1      Chikaima      F     0.500000                 F                 True   \n",
       "2       Zoejane      F     0.571429                 F                 True   \n",
       "3        Teegan      F     0.500000                 F                 True   \n",
       "4        Alanda      F     0.500000                 F                 True   \n",
       "...         ...    ...          ...               ...                  ...   \n",
       "28971    Arther      M     0.333333                 M                False   \n",
       "28972    Jamani      M     0.500000                 F                 True   \n",
       "28973   Mickeal      M     0.428571                 F                 True   \n",
       "28974      Chad      M     0.250000                 M                False   \n",
       "28975     Leory      M     0.400000                 M                False   \n",
       "\n",
       "       is_last_letter_vowel  vowel_feature  \n",
       "0                     False          False  \n",
       "1                      True           True  \n",
       "2                      True           True  \n",
       "3                     False          False  \n",
       "4                      True           True  \n",
       "...                     ...            ...  \n",
       "28971                 False          False  \n",
       "28972                  True           True  \n",
       "28973                 False          False  \n",
       "28974                 False          False  \n",
       "28975                 False          False  \n",
       "\n",
       "[28976 rows x 7 columns]"
      ]
     },
     "execution_count": 147,
     "metadata": {},
     "output_type": "execute_result"
    }
   ],
   "source": [
    "df"
   ]
  },
  {
   "cell_type": "code",
   "execution_count": 149,
   "id": "728401a7-ed39-4aaf-8ee9-d45c250c0d95",
   "metadata": {},
   "outputs": [
    {
     "data": {
      "text/plain": [
       "<Axes: xlabel='vowel_feature', ylabel='count'>"
      ]
     },
     "execution_count": 149,
     "metadata": {},
     "output_type": "execute_result"
    },
    {
     "data": {
      "image/png": "[encoded data removed]",
      "text/plain": [
       "<Figure size 640x480 with 1 Axes>"
      ]
     },
     "metadata": {},
     "output_type": "display_data"
    }
   ],
   "source": [
    "sns.countplot(data = df, x = 'vowel_feature', hue = 'gender')"
   ]
  },
  {
   "cell_type": "markdown",
   "id": "b17b463a-97da-4c7b-9fee-f06b8843cbfe",
   "metadata": {},
   "source": [
    "It looks like the combined indicator: Vowel ratio > 0.4 and last letter is being a vowel is not a good indicator for this dataset either!"
   ]
  },
  {
   "cell_type": "markdown",
   "id": "c1fbd8e4",
   "metadata": {},
   "source": [
    "## Part2\n",
    "\n",
    "Write the inference function based on the findings..."
   ]
  },
  {
   "cell_type": "code",
   "execution_count": 151,
   "id": "3cfc4e5c",
   "metadata": {},
   "outputs": [
    {
     "name": "stdout",
     "output_type": "stream",
     "text": [
      "F\n",
      "M\n"
     ]
    }
   ],
   "source": [
    "def predict_one(name): # <-- (Don't change the function signature) DO NOT CHANGE THIS LINE\n",
    "    # write your codes below this line....\n",
    "    # 1. Define vowel set\n",
    "    vowels = set(\"aeiouAEIOU\")\n",
    "    \n",
    "    # 2. Calculate vowel ratio\n",
    "    vowel_count = sum(1 for char in name if char in vowels)\n",
    "    vowel_ratio = vowel_count / len(name) if len(name) > 0 else 0\n",
    "\n",
    "    # 3. Check if the last letter is a vowel\n",
    "    is_last_letter_vowel = name[-1] in vowels\n",
    "\n",
    "    # 4. Prediction logic:\n",
    "    # - If the vowel ratio is > 40% and the last letter is a vowel, predict 'F'\n",
    "    # - Otherwise, predict 'M'\n",
    "    if vowel_ratio > 0.4 and is_last_letter_vowel:\n",
    "        return 'F'\n",
    "    else:\n",
    "        return 'M'\n",
    "\n",
    "# Test cases\n",
    "print(predict_one('Jasmine'))  \n",
    "print(predict_one('John'))    "
   ]
  },
  {
   "cell_type": "code",
   "execution_count": 153,
   "id": "3889bd65",
   "metadata": {},
   "outputs": [
    {
     "name": "stdout",
     "output_type": "stream",
     "text": [
      "Accuracy: 0.6428078409718387\n"
     ]
    }
   ],
   "source": [
    "## DO NOT CHANGE ANYTHING IN THIS CELL!!!\n",
    "predictions = [ predict_one(name) for name in df.name]\n",
    "accuracy = sum(df.gender == predictions) / len(df)\n",
    "print(f\"Accuracy: {accuracy}\")"
   ]
  },
  {
   "cell_type": "markdown",
   "id": "be0dc662",
   "metadata": {},
   "source": [
    "## Part3 \n",
    "\n",
    "\n",
    "Write the above function in one of the following languages:\n",
    "1. javascript\n",
    "2. sql\n",
    "\n",
    "For javascript:\n",
    "\n",
    "The following is the starter code. \n",
    "\n",
    "* Open a new file in week3 folder name it `name_predictor.html`\n",
    "\n",
    "* Fill the `predictOne` function based on the function above\n",
    "\n",
    "* Save and double click on the html file to test it.\n"
   ]
  },
  {
   "cell_type": "raw",
   "id": "5488cbf8",
   "metadata": {},
   "source": [
    "<!DOCTYPE html>\n",
    "<html lang=\"en\">\n",
    "\n",
    "<head>\n",
    "    <title>Gender Prediction</title>\n",
    "    <!-- Bootstrap CSS -->\n",
    "    <link href=\"https://maxcdn.bootstrapcdn.com/bootstrap/4.5.2/css/bootstrap.min.css\" rel=\"stylesheet\">\n",
    "</head>\n",
    "\n",
    "<body class=\"container py-5\">\n",
    "\n",
    "    <div class=\"form-group\">\n",
    "        <label for=\"inputBox\" class=\"font-weight-bold\">Enter Name:</label>\n",
    "        <input type=\"text\" \n",
    "               id=\"inputBox\" \n",
    "               class=\"form-control\" \n",
    "               placeholder=\"Type name...\" \n",
    "               oninput=\"runInference()\">\n",
    "    </div>\n",
    "    <div id=\"result\" class=\"alert alert-info mt-3\">Prediction: </div>\n",
    "\n",
    "    <script>\n",
    "        function runInference() {\n",
    "            const input = document.getElementById('inputBox').value;\n",
    "            const prediction = predictOne(input);\n",
    "\n",
    "            document.getElementById('result').textContent = `Prediction: ${prediction}`;\n",
    "        }\n",
    "\n",
    "        function predictOne(name) {\n",
    "            if (typeof name !== 'string') return;\n",
    "            name = name.toLowerCase();\n",
    "            // enter your code here....\n",
    "\n",
    "            // sample - check if the last letter is a vowel\n",
    "            if (name.match(/[aeiou]$/)) {\n",
    "                return 'F';\n",
    "            }\n",
    "\n",
    "            return 'M';\n",
    "        }\n",
    "    </script>\n",
    "\n",
    "</body>\n",
    "\n",
    "</html>"
   ]
  },
  {
   "cell_type": "markdown",
   "id": "eca103ba-044a-423d-a131-f4bd5c26afd7",
   "metadata": {},
   "source": [
    "For sql:\n",
    "\n",
    "The following is a sample function code for postgres. \n",
    "If you don't have a database engine installed on your computer, you can use: https://onecompiler.com/\n",
    "\n",
    "If you already have a local server, use that to create a function that contains the logic you came up with.\n"
   ]
  },
  {
   "cell_type": "raw",
   "id": "a3cb2645-2b23-4d49-951f-7edbcbcfa2fd",
   "metadata": {},
   "source": [
    "CREATE OR REPLACE FUNCTION predict_gender(input_string TEXT)\n",
    "RETURNS TEXT AS $$\n",
    "BEGIN\n",
    "    if right(input_string,1) in ('a', 'e', 'i', 'o', 'u') then\n",
    "      RETURN 'F';\n",
    "    end if;\n",
    "    \n",
    "    RETURN 'M';\n",
    "END;\n",
    "$$ LANGUAGE plpgsql;\n",
    "\n",
    "\n",
    "select predict_gender('jack')"
   ]
  },
  {
   "cell_type": "markdown",
   "id": "5316ab83-3cf9-4e53-9f83-7596c702665b",
   "metadata": {},
   "source": [
    "#### The following is the java code."
   ]
  },
  {
   "cell_type": "markdown",
   "id": "a21a5ba2-48e9-4915-ab26-5ddd18d0b886",
   "metadata": {},
   "source": [
    "<!DOCTYPE html>\n",
    "<html lang=\"en\">\n",
    "\n",
    "<head>\n",
    "    <title>Gender Prediction</title>\n",
    "    <!-- Bootstrap CSS -->\n",
    "    <link href=\"https://maxcdn.bootstrapcdn.com/bootstrap/4.5.2/css/bootstrap.min.css\" rel=\"stylesheet\">\n",
    "</head>\n",
    "\n",
    "<body class=\"container py-5\">\n",
    "\n",
    "    <div class=\"form-group\">\n",
    "        <label for=\"inputBox\" class=\"font-weight-bold\">Enter Name:</label>\n",
    "        <input type=\"text\" \n",
    "               id=\"inputBox\" \n",
    "               class=\"form-control\" \n",
    "               placeholder=\"Type name...\" \n",
    "               oninput=\"runInference()\">\n",
    "    </div>\n",
    "    <div id=\"result\" class=\"alert alert-info mt-3\">Prediction: </div>\n",
    "\n",
    "    <script>\n",
    "        function runInference() {\n",
    "            const input = document.getElementById('inputBox').value;\n",
    "            const prediction = predictOne(input);\n",
    "\n",
    "            document.getElementById('result').textContent = `Prediction: ${prediction}`;\n",
    "        }\n",
    "\n",
    "        function predictOne(name) {\n",
    "            // Ensure name is a valid string\n",
    "            if (typeof name !== 'string' || name.trim() === '') return;\n",
    "\n",
    "            // Normalize name to lowercase\n",
    "            name = name.toLowerCase();\n",
    "\n",
    "            // Define vowel set\n",
    "            const vowels = ['a', 'e', 'i', 'o', 'u'];\n",
    "\n",
    "            // 1. Calculate vowel count and ratio\n",
    "            const vowelCount = name.split('').filter(char => vowels.includes(char)).length;\n",
    "            const vowelRatio = vowelCount / name.length;\n",
    "\n",
    "            // 2. Check if last letter is a vowel\n",
    "            const isLastLetterVowel = vowels.includes(name[name.length - 1]);\n",
    "\n",
    "            // 3. Prediction logic:\n",
    "            // - If the vowel ratio is > 40% and the last letter is a vowel, predict 'F'\n",
    "            // - Otherwise, predict 'M'\n",
    "            if (vowelRatio > 0.4 && isLastLetterVowel) {\n",
    "                return 'F';\n",
    "            } else {\n",
    "                return 'M';\n",
    "            }\n",
    "        }\n",
    "    </script>\n",
    "\n",
    "</body>\n",
    "\n",
    "</html>\n"
   ]
  },
  {
   "cell_type": "markdown",
   "id": "d4f7a32d-bb49-4310-a20b-fa0d9e728f0b",
   "metadata": {},
   "source": [
    "#### The following is the screenshot."
   ]
  },
  {
   "attachments": {
    "365b2096-7aef-4235-9be4-3e19e1ff7c64.png": {
     "image/png": "[encoded data removed]"
    }
   },
   "cell_type": "markdown",
   "id": "a473fbab-c4d2-4993-a259-8e513894b1e6",
   "metadata": {},
   "source": [
    "![1739660464198.png](attachment:365b2096-7aef-4235-9be4-3e19e1ff7c64.png)"
   ]
  },
  {
   "cell_type": "code",
   "execution_count": null,
   "id": "c9670b41-aa2f-4aea-93c3-d75bb5f24ae9",
   "metadata": {},
   "outputs": [],
   "source": []
  }
 ],
 "metadata": {
  "kernelspec": {
   "display_name": "Python [conda env:base] *",
   "language": "python",
   "name": "conda-base-py"
  },
  "language_info": {
   "codemirror_mode": {
    "name": "ipython",
    "version": 3
   },
   "file_extension": ".py",
   "mimetype": "text/x-python",
   "name": "python",
   "nbconvert_exporter": "python",
   "pygments_lexer": "ipython3",
   "version": "3.12.7"
  },
  "toc": {
   "base_numbering": 1,
   "nav_menu": {},
   "number_sections": true,
   "sideBar": true,
   "skip_h1_title": false,
   "title_cell": "Table of Contents",
   "title_sidebar": "Contents",
   "toc_cell": false,
   "toc_position": {},
   "toc_section_display": true,
   "toc_window_display": false
  }
 },
 "nbformat": 4,
 "nbformat_minor": 5
}
