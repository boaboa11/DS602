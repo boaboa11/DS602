{
 "cells": [
  {
   "cell_type": "markdown",
   "metadata": {},
   "source": [
    "# Homework 2\n",
    "\n",
    "In this homework, we are gonna perform some EDA work on our browser history!\n",
    "\n",
    "Extract & prepare your history dataset using: \n",
    "https://github.com/msaricaumbc/DS601/blob/main/Week09/homework/preparation_BrowserHistory.ipynb\n",
    "\n",
    "DO NOT commit your history dataset!\n",
    "\n",
    "Watch this: https://www.youtube.com/watch?v=iFTWM7HV2UI"
   ]
  },
  {
   "cell_type": "code",
   "execution_count": 158,
   "metadata": {},
   "outputs": [],
   "source": [
    "import pandas as pd\n",
    "import numpy as np\n",
    "import matplotlib\n",
    "import matplotlib.pyplot as plt\n",
    "import seaborn as sns\n",
    "import re"
   ]
  },
  {
   "cell_type": "code",
   "execution_count": 79,
   "metadata": {},
   "outputs": [
    {
     "data": {
      "text/plain": [
       "(971, 9)"
      ]
     },
     "execution_count": 79,
     "metadata": {},
     "output_type": "execute_result"
    }
   ],
   "source": [
    "df = pd.read_csv('history.csv')\n",
    "df.shape"
   ]
  },
  {
   "cell_type": "code",
   "execution_count": 80,
   "metadata": {},
   "outputs": [
    {
     "data": {
      "text/html": [
       "<div>\n",
       "<style scoped>\n",
       "    .dataframe tbody tr th:only-of-type {\n",
       "        vertical-align: middle;\n",
       "    }\n",
       "\n",
       "    .dataframe tbody tr th {\n",
       "        vertical-align: top;\n",
       "    }\n",
       "\n",
       "    .dataframe thead th {\n",
       "        text-align: right;\n",
       "    }\n",
       "</style>\n",
       "<table border=\"1\" class=\"dataframe\">\n",
       "  <thead>\n",
       "    <tr style=\"text-align: right;\">\n",
       "      <th></th>\n",
       "      <th>order</th>\n",
       "      <th>id</th>\n",
       "      <th>date</th>\n",
       "      <th>time</th>\n",
       "      <th>title</th>\n",
       "      <th>url</th>\n",
       "      <th>visitCount</th>\n",
       "      <th>typedCount</th>\n",
       "      <th>transition</th>\n",
       "    </tr>\n",
       "  </thead>\n",
       "  <tbody>\n",
       "    <tr>\n",
       "      <th>0</th>\n",
       "      <td>0</td>\n",
       "      <td>27299</td>\n",
       "      <td>4/14/2025</td>\n",
       "      <td>17:30:00</td>\n",
       "      <td>Chrome Web Store - Extensions</td>\n",
       "      <td>https://chromewebstore.google.com/category/ext...</td>\n",
       "      <td>1</td>\n",
       "      <td>0</td>\n",
       "      <td>link</td>\n",
       "    </tr>\n",
       "    <tr>\n",
       "      <th>1</th>\n",
       "      <td>1</td>\n",
       "      <td>27298</td>\n",
       "      <td>4/14/2025</td>\n",
       "      <td>17:28:16</td>\n",
       "      <td>Chrome 应用商店 - 主题</td>\n",
       "      <td>https://chromewebstore.google.com/category/themes</td>\n",
       "      <td>1</td>\n",
       "      <td>0</td>\n",
       "      <td>link</td>\n",
       "    </tr>\n",
       "    <tr>\n",
       "      <th>2</th>\n",
       "      <td>2</td>\n",
       "      <td>27297</td>\n",
       "      <td>4/14/2025</td>\n",
       "      <td>17:28:14</td>\n",
       "      <td>Chrome 应用商店</td>\n",
       "      <td>https://chromewebstore.google.com/</td>\n",
       "      <td>1</td>\n",
       "      <td>0</td>\n",
       "      <td>link</td>\n",
       "    </tr>\n",
       "    <tr>\n",
       "      <th>3</th>\n",
       "      <td>3</td>\n",
       "      <td>27296</td>\n",
       "      <td>4/14/2025</td>\n",
       "      <td>17:27:37</td>\n",
       "      <td>Export Chrome History - Chrome 应用商店</td>\n",
       "      <td>https://chromewebstore.google.com/detail/expor...</td>\n",
       "      <td>1</td>\n",
       "      <td>0</td>\n",
       "      <td>link</td>\n",
       "    </tr>\n",
       "    <tr>\n",
       "      <th>4</th>\n",
       "      <td>4</td>\n",
       "      <td>27294</td>\n",
       "      <td>4/14/2025</td>\n",
       "      <td>17:26:44</td>\n",
       "      <td>Chrome Web Store</td>\n",
       "      <td>https://chromewebstore.google.com/?hl=en</td>\n",
       "      <td>1</td>\n",
       "      <td>0</td>\n",
       "      <td>link</td>\n",
       "    </tr>\n",
       "  </tbody>\n",
       "</table>\n",
       "</div>"
      ],
      "text/plain": [
       "   order     id       date      time                                title  \\\n",
       "0      0  27299  4/14/2025  17:30:00        Chrome Web Store - Extensions   \n",
       "1      1  27298  4/14/2025  17:28:16                     Chrome 应用商店 - 主题   \n",
       "2      2  27297  4/14/2025  17:28:14                          Chrome 应用商店   \n",
       "3      3  27296  4/14/2025  17:27:37  Export Chrome History - Chrome 应用商店   \n",
       "4      4  27294  4/14/2025  17:26:44                     Chrome Web Store   \n",
       "\n",
       "                                                 url  visitCount  typedCount  \\\n",
       "0  https://chromewebstore.google.com/category/ext...           1           0   \n",
       "1  https://chromewebstore.google.com/category/themes           1           0   \n",
       "2                 https://chromewebstore.google.com/           1           0   \n",
       "3  https://chromewebstore.google.com/detail/expor...           1           0   \n",
       "4           https://chromewebstore.google.com/?hl=en           1           0   \n",
       "\n",
       "  transition  \n",
       "0       link  \n",
       "1       link  \n",
       "2       link  \n",
       "3       link  \n",
       "4       link  "
      ]
     },
     "execution_count": 80,
     "metadata": {},
     "output_type": "execute_result"
    }
   ],
   "source": [
    "df.head()"
   ]
  },
  {
   "cell_type": "code",
   "execution_count": 81,
   "metadata": {},
   "outputs": [
    {
     "data": {
      "text/html": [
       "<div>\n",
       "<style scoped>\n",
       "    .dataframe tbody tr th:only-of-type {\n",
       "        vertical-align: middle;\n",
       "    }\n",
       "\n",
       "    .dataframe tbody tr th {\n",
       "        vertical-align: top;\n",
       "    }\n",
       "\n",
       "    .dataframe thead th {\n",
       "        text-align: right;\n",
       "    }\n",
       "</style>\n",
       "<table border=\"1\" class=\"dataframe\">\n",
       "  <thead>\n",
       "    <tr style=\"text-align: right;\">\n",
       "      <th></th>\n",
       "      <th>order</th>\n",
       "      <th>id</th>\n",
       "      <th>date</th>\n",
       "      <th>time</th>\n",
       "      <th>title</th>\n",
       "      <th>url</th>\n",
       "      <th>visitCount</th>\n",
       "      <th>typedCount</th>\n",
       "      <th>transition</th>\n",
       "    </tr>\n",
       "  </thead>\n",
       "  <tbody>\n",
       "    <tr>\n",
       "      <th>966</th>\n",
       "      <td>966</td>\n",
       "      <td>418</td>\n",
       "      <td>4/7/2025</td>\n",
       "      <td>20:11:24</td>\n",
       "      <td>Databricks - Sign In</td>\n",
       "      <td>https://community.cloud.databricks.com/</td>\n",
       "      <td>11</td>\n",
       "      <td>0</td>\n",
       "      <td>link</td>\n",
       "    </tr>\n",
       "    <tr>\n",
       "      <th>967</th>\n",
       "      <td>967</td>\n",
       "      <td>18805</td>\n",
       "      <td>4/7/2025</td>\n",
       "      <td>20:11:24</td>\n",
       "      <td>Databricks - Sign In</td>\n",
       "      <td>https://community.cloud.databricks.com/login.html</td>\n",
       "      <td>6</td>\n",
       "      <td>0</td>\n",
       "      <td>link</td>\n",
       "    </tr>\n",
       "    <tr>\n",
       "      <th>968</th>\n",
       "      <td>968</td>\n",
       "      <td>26549</td>\n",
       "      <td>4/7/2025</td>\n",
       "      <td>20:11:18</td>\n",
       "      <td>databricks community edition - Google 搜索</td>\n",
       "      <td>https://www.google.com/search?q=databricks+com...</td>\n",
       "      <td>1</td>\n",
       "      <td>0</td>\n",
       "      <td>generated</td>\n",
       "    </tr>\n",
       "    <tr>\n",
       "      <th>969</th>\n",
       "      <td>969</td>\n",
       "      <td>336</td>\n",
       "      <td>4/7/2025</td>\n",
       "      <td>19:21:17</td>\n",
       "      <td>ChatGPT</td>\n",
       "      <td>https://chatgpt.com/</td>\n",
       "      <td>66</td>\n",
       "      <td>10</td>\n",
       "      <td>link</td>\n",
       "    </tr>\n",
       "    <tr>\n",
       "      <th>970</th>\n",
       "      <td>970</td>\n",
       "      <td>337</td>\n",
       "      <td>4/7/2025</td>\n",
       "      <td>19:21:14</td>\n",
       "      <td>XML HTML Extraction Fix</td>\n",
       "      <td>https://chatgpt.com/c/66f21838-9518-8013-9d6e-...</td>\n",
       "      <td>46</td>\n",
       "      <td>5</td>\n",
       "      <td>auto_bookmark</td>\n",
       "    </tr>\n",
       "  </tbody>\n",
       "</table>\n",
       "</div>"
      ],
      "text/plain": [
       "     order     id      date      time  \\\n",
       "966    966    418  4/7/2025  20:11:24   \n",
       "967    967  18805  4/7/2025  20:11:24   \n",
       "968    968  26549  4/7/2025  20:11:18   \n",
       "969    969    336  4/7/2025  19:21:17   \n",
       "970    970    337  4/7/2025  19:21:14   \n",
       "\n",
       "                                        title  \\\n",
       "966                      Databricks - Sign In   \n",
       "967                      Databricks - Sign In   \n",
       "968  databricks community edition - Google 搜索   \n",
       "969                                   ChatGPT   \n",
       "970                   XML HTML Extraction Fix   \n",
       "\n",
       "                                                   url  visitCount  \\\n",
       "966            https://community.cloud.databricks.com/          11   \n",
       "967  https://community.cloud.databricks.com/login.html           6   \n",
       "968  https://www.google.com/search?q=databricks+com...           1   \n",
       "969                               https://chatgpt.com/          66   \n",
       "970  https://chatgpt.com/c/66f21838-9518-8013-9d6e-...          46   \n",
       "\n",
       "     typedCount     transition  \n",
       "966           0           link  \n",
       "967           0           link  \n",
       "968           0      generated  \n",
       "969          10           link  \n",
       "970           5  auto_bookmark  "
      ]
     },
     "execution_count": 81,
     "metadata": {},
     "output_type": "execute_result"
    }
   ],
   "source": [
    "df.tail()"
   ]
  },
  {
   "cell_type": "code",
   "execution_count": 82,
   "metadata": {},
   "outputs": [
    {
     "data": {
      "text/plain": [
       "order         0\n",
       "id            0\n",
       "date          0\n",
       "time          0\n",
       "title         8\n",
       "url           0\n",
       "visitCount    0\n",
       "typedCount    0\n",
       "transition    0\n",
       "dtype: int64"
      ]
     },
     "execution_count": 82,
     "metadata": {},
     "output_type": "execute_result"
    }
   ],
   "source": [
    "df.isna().sum()"
   ]
  },
  {
   "cell_type": "code",
   "execution_count": 83,
   "metadata": {},
   "outputs": [],
   "source": [
    "df.dropna( inplace=True)"
   ]
  },
  {
   "cell_type": "code",
   "execution_count": 84,
   "metadata": {},
   "outputs": [
    {
     "data": {
      "text/plain": [
       "order          int64\n",
       "id             int64\n",
       "date          object\n",
       "time          object\n",
       "title         object\n",
       "url           object\n",
       "visitCount     int64\n",
       "typedCount     int64\n",
       "transition    object\n",
       "dtype: object"
      ]
     },
     "execution_count": 84,
     "metadata": {},
     "output_type": "execute_result"
    }
   ],
   "source": [
    "df.dtypes"
   ]
  },
  {
   "cell_type": "code",
   "execution_count": 107,
   "metadata": {},
   "outputs": [
    {
     "name": "stdout",
     "output_type": "stream",
     "text": [
      "order                  int64\n",
      "id                     int64\n",
      "date          datetime64[ns]\n",
      "time          datetime64[ns]\n",
      "title                 object\n",
      "url                   object\n",
      "visitCount             int64\n",
      "typedCount             int64\n",
      "transition            object\n",
      "hour                   int32\n",
      "dayofweek              int32\n",
      "dtype: object\n"
     ]
    }
   ],
   "source": [
    "# Time Feature Engineering\n",
    "# Convert 'time' and 'date' columns with a specified format\n",
    "df['date'] = pd.to_datetime(df['date'], format='%Y-%m-%d')  # Adjust if the 'date' format is different\n",
    "df['time'] = pd.to_datetime(df['time'], format='%Y-%m-%d %H:%M:%S')  # Adjust if the 'time' format is different\n",
    "\n",
    "# Now you can extract the hour and day of the week\n",
    "df['hour'] = df['time'].dt.hour\n",
    "df['dayofweek'] = df['date'].dt.dayofweek\n",
    "\n",
    "# Check the data types\n",
    "print(df.dtypes)\n"
   ]
  },
  {
   "cell_type": "code",
   "execution_count": 117,
   "metadata": {},
   "outputs": [
    {
     "data": {
      "image/png": "[encoded data removed]",
      "text/plain": [
       "<Figure size 800x400 with 1 Axes>"
      ]
     },
     "metadata": {},
     "output_type": "display_data"
    }
   ],
   "source": [
    "\n",
    "# Browsing Peak Hours\n",
    "plt.figure(figsize=(8, 4))\n",
    "sns.countplot(x='hour', data=df)  # Without specifying a palette\n",
    "plt.title('Number of Visits by Hour')\n",
    "plt.xlabel('Hour of the Day')\n",
    "plt.ylabel('Number of Visits')\n",
    "plt.grid(axis='y')\n",
    "plt.show()\n"
   ]
  },
  {
   "cell_type": "code",
   "execution_count": 129,
   "metadata": {},
   "outputs": [
    {
     "data": {
      "image/png": "[encoded data removed]",
      "text/plain": [
       "<Figure size 600x400 with 1 Axes>"
      ]
     },
     "metadata": {},
     "output_type": "display_data"
    }
   ],
   "source": [
    "# Visits by Day of the Week\n",
    "plt.figure(figsize=(6,4))\n",
    "sns.countplot(x='dayofweek', data=df)\n",
    "plt.title('Number of Visits by Day of the Week')\n",
    "plt.xlabel('Day of the Week (0=Monday)')\n",
    "plt.ylabel('Number of Visits')\n",
    "plt.grid(axis='y')\n",
    "plt.show()\n"
   ]
  },
  {
   "cell_type": "code",
   "execution_count": 154,
   "metadata": {},
   "outputs": [
    {
     "data": {
      "image/png": "[encoded data removed]",
      "text/plain": [
       "<Figure size 1200x600 with 1 Axes>"
      ]
     },
     "metadata": {},
     "output_type": "display_data"
    }
   ],
   "source": [
    "# Top Visited Domains\n",
    "df['domain'] = df['url'].apply(lambda x: re.findall(r'https?://(.*?)/', x)[0] if pd.notnull(x) else '')\n",
    "\n",
    "top_domains = df['domain'].value_counts().head(7)\n",
    "\n",
    "plt.figure(figsize=(12,6))\n",
    "sns.barplot(x=top_domains.values, y=top_domains.index)\n",
    "plt.title('Top 7 Visited Domains')\n",
    "plt.xlabel('Visit Count')\n",
    "plt.ylabel('Domain')\n",
    "plt.grid(axis='x')\n",
    "plt.show()\n"
   ]
  },
  {
   "cell_type": "code",
   "execution_count": 156,
   "metadata": {},
   "outputs": [
    {
     "data": {
      "image/png": "[encoded data removed]",
      "text/plain": [
       "<Figure size 500x400 with 1 Axes>"
      ]
     },
     "metadata": {},
     "output_type": "display_data"
    }
   ],
   "source": [
    "# Typed vs Non-Typed Visits\n",
    "typed_summary = df['typedCount'].apply(lambda x: 1 if x > 0 else 0).value_counts()\n",
    "\n",
    "plt.figure(figsize=(5,4))\n",
    "sns.barplot(x=typed_summary.index, y=typed_summary.values)\n",
    "plt.xticks([0,1], ['Non-Typed (Click/Search)', 'Typed (Manual URL)'])\n",
    "plt.title('Typed vs Non-Typed Visits')\n",
    "plt.ylabel('Number of Visits')\n",
    "plt.grid(axis='y')\n",
    "plt.show()"
   ]
  },
  {
   "cell_type": "code",
   "execution_count": 147,
   "metadata": {},
   "outputs": [
    {
     "name": "stdout",
     "output_type": "stream",
     "text": [
      "\n",
      "=== Quick Summary ===\n",
      "Most visited domain: www.google.com\n",
      "Peak browsing hour: 11\n",
      "Day with most visits: 2 (0=Monday)\n"
     ]
    }
   ],
   "source": [
    "# Summary Printout\n",
    "print(\"\\n=== Quick Summary ===\")\n",
    "print(f\"Most visited domain: {top_domains.index[0]}\")\n",
    "print(f\"Peak browsing hour: {df['hour'].mode()[0]}\")\n",
    "print(f\"Day with most visits: {df['dayofweek'].mode()[0]} (0=Monday)\")"
   ]
  },
  {
   "cell_type": "markdown",
   "metadata": {},
   "source": [
    "### Based on data, what can we tell about this person?\n",
    "\n",
    "1. Is this a work computer/personal computer?\n",
    "1. Is he employed?\n",
    "1. What is his interests?\n",
    "1. Anything interesting? "
   ]
  },
  {
   "cell_type": "markdown",
   "metadata": {},
   "source": [
    "answer here"
   ]
  },
  {
   "cell_type": "markdown",
   "metadata": {},
   "source": [
    "1. Is this a work computer or personal computer?\n",
    "It appears to be a combination of both. Because there are several visits to LinkedIn, suggesting a professional focus, possibly looking for job opportunities or related career interests. There is also browsing related to Temu and Amazon, which suggests personal shopping or personal interests. Conclusion: This is likely a personal computer that may also be used for work-related browsing.\n",
    "2. Is he employed?\n",
    "Yes, he seems to be employed or actively seeking employment. There are multiple visits to LinkedIn job search pages, suggesting active job hunting or an interest in professional opportunities. There’s a possibility that the browsing activity might be related to career advancement or research on job roles. Conclusion: The person is either employed or actively looking for a job.\n",
    "\n",
    "3. What are his interests?\n",
    "Based on the browsing activity, his interests appear to be:\n",
    "E-commerce & Online Shopping: Frequent visits to Amazon and Temu suggest an interest in shopping.\n",
    "Technology: Several visits to databricks for big data processing, indicating a focus on technology or data science.\n",
    "Conclusion: His interests seem to focus on online shopping and career advancement in tech.\n",
    "\n",
    "4. Anything interesting?\n",
    "There is significant browsing related to online shopping, which could suggest a hobby or personal interest in fashion, beauty, or deals.\n",
    "The visits to localhost URLs suggest the possibility of local development (maybe related to programming, coding, or project work).\n",
    "Conclusion: This person appears to be a tech-savvy individual with a strong focus on career growth and personal shopping.\n",
    "\n",
    "5. What else can we tell about this person?\n",
    "Frequent shopper: The person likely spends a fair amount of time browsing shopping platforms, which may suggest a preference for online shopping.\n",
    "Career-driven: Given the emphasis on job searches and professional development, they are likely career-focused, especially in the tech or data field.\n",
    "Tech-savvy: The visits to localhost and browsing related to tech jobs suggest that the person has a technical background, possibly in programming or data science.\n",
    "Conclusion: The person is likely tech-oriented and career-driven, with a focus on data-related roles and online shopping as personal interests."
   ]
  },
  {
   "cell_type": "code",
   "execution_count": null,
   "metadata": {},
   "outputs": [],
   "source": []
  }
 ],
 "metadata": {
  "kernelspec": {
   "display_name": "Python [conda env:base] *",
   "language": "python",
   "name": "conda-base-py"
  },
  "language_info": {
   "codemirror_mode": {
    "name": "ipython",
    "version": 3
   },
   "file_extension": ".py",
   "mimetype": "text/x-python",
   "name": "python",
   "nbconvert_exporter": "python",
   "pygments_lexer": "ipython3",
   "version": "3.12.3"
  },
  "toc": {
   "base_numbering": 1,
   "nav_menu": {},
   "number_sections": true,
   "sideBar": true,
   "skip_h1_title": false,
   "title_cell": "Table of Contents",
   "title_sidebar": "Contents",
   "toc_cell": false,
   "toc_position": {},
   "toc_section_display": true,
   "toc_window_display": false
  },
  "varInspector": {
   "cols": {
    "lenName": 16,
    "lenType": 16,
    "lenVar": 40
   },
   "kernels_config": {
    "python": {
     "delete_cmd_postfix": "",
     "delete_cmd_prefix": "del ",
     "library": "var_list.py",
     "varRefreshCmd": "print(var_dic_list())"
    },
    "r": {
     "delete_cmd_postfix": ") ",
     "delete_cmd_prefix": "rm(",
     "library": "var_list.r",
     "varRefreshCmd": "cat(var_dic_list()) "
    }
   },
   "types_to_exclude": [
    "module",
    "function",
    "builtin_function_or_method",
    "instance",
    "_Feature"
   ],
   "window_display": false
  }
 },
 "nbformat": 4,
 "nbformat_minor": 4
}
