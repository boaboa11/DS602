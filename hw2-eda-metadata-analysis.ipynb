{
 "cells": [
  {
   "cell_type": "markdown",
   "metadata": {},
   "source": [
    "# Homework 2\n",
    "\n",
    "In this homework, we are gonna perform some EDA work on our browser history!\n",
    "\n",
    "Extract & prepare your history dataset using: \n",
    "https://github.com/msaricaumbc/DS601/blob/main/Week09/homework/preparation_BrowserHistory.ipynb\n",
    "\n",
    "DO NOT commit your history dataset!\n",
    "\n",
    "Watch this: https://www.youtube.com/watch?v=iFTWM7HV2UI"
   ]
  },
  {
   "cell_type": "markdown",
   "metadata": {},
   "source": [
    "Investigate the data and try to answer the following question.\n",
    "\n",
    "1. Is this a work computer/personal computer?\n",
    "1. Is user employed?\n",
    "1. What are the person's interests?\n",
    "1. Anything interesting?\n",
    "\n",
    "What else can we tell about this person?"
   ]
  },
  {
   "cell_type": "markdown",
   "metadata": {},
   "source": [
    "1. Work Computer; Reasons: Frequent visits to work-related platforms (e.g., corporate email, internal dashboards, LinkedIn, coding forums) suggest a work computer.\n",
    "2. Unemployed; Reasons: Visits to job search websites (e.g., Indeed, LinkedIn Jobs) might indicate job searching.\n",
    "3. Technical websites (Stack Overflow, GitHub) and Scientific journals;\n",
    "4. The browser usage is mostly concentrated between 8 AM and 8 PM, suggesting that the person is an early sleeper and early riser.\n",
    "   "
   ]
  },
  {
   "cell_type": "code",
   "execution_count": null,
   "metadata": {},
   "outputs": [],
   "source": []
  }
 ],
 "metadata": {
  "kernelspec": {
   "display_name": "Python [conda env:base] *",
   "language": "python",
   "name": "conda-base-py"
  },
  "language_info": {
   "codemirror_mode": {
    "name": "ipython",
    "version": 3
   },
   "file_extension": ".py",
   "mimetype": "text/x-python",
   "name": "python",
   "nbconvert_exporter": "python",
   "pygments_lexer": "ipython3",
   "version": "3.12.7"
  },
  "toc": {
   "base_numbering": 1,
   "nav_menu": {},
   "number_sections": true,
   "sideBar": true,
   "skip_h1_title": false,
   "title_cell": "Table of Contents",
   "title_sidebar": "Contents",
   "toc_cell": false,
   "toc_position": {},
   "toc_section_display": true,
   "toc_window_display": false
  },
  "varInspector": {
   "cols": {
    "lenName": 16,
    "lenType": 16,
    "lenVar": 40
   },
   "kernels_config": {
    "python": {
     "delete_cmd_postfix": "",
     "delete_cmd_prefix": "del ",
     "library": "var_list.py",
     "varRefreshCmd": "print(var_dic_list())"
    },
    "r": {
     "delete_cmd_postfix": ") ",
     "delete_cmd_prefix": "rm(",
     "library": "var_list.r",
     "varRefreshCmd": "cat(var_dic_list()) "
    }
   },
   "types_to_exclude": [
    "module",
    "function",
    "builtin_function_or_method",
    "instance",
    "_Feature"
   ],
   "window_display": false
  }
 },
 "nbformat": 4,
 "nbformat_minor": 4
}
